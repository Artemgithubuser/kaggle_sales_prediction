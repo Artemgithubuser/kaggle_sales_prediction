{
 "cells": [
  {
   "cell_type": "code",
   "execution_count": 1,
   "metadata": {
    "collapsed": true
   },
   "outputs": [],
   "source": [
    "import pandas as pd\n",
    "import numpy as np\n",
    "import matplotlib.pyplot as plt\n",
    "from IPython.core.interactiveshell import InteractiveShell\n",
    "from multiprocessing import Pool\n",
    "from itertools import product\n",
    "from sklearn.feature_extraction.text import CountVectorizer\n",
    "from sklearn.feature_extraction.text import TfidfTransformer\n",
    "InteractiveShell.ast_node_interactivity = \"all\"\n",
    "%matplotlib inline"
   ]
  },
  {
   "cell_type": "markdown",
   "metadata": {},
   "source": [
    "# Import data\n"
   ]
  },
  {
   "cell_type": "code",
   "execution_count": 2,
   "metadata": {
    "collapsed": true
   },
   "outputs": [],
   "source": [
    "test = pd.read_csv('../input/test.csv')\n",
    "shop = pd.read_csv('../input/shops.csv')\n",
    "submission = pd.read_csv('../input/sample_submission.csv')\n",
    "sales = pd.read_csv('../input/sales_train_v2.csv')\n",
    "items = pd.read_csv('../input/items.csv')\n",
    "item_category = pd.read_csv('../input/item_categories.csv')"
   ]
  },
  {
   "cell_type": "code",
   "execution_count": 3,
   "metadata": {
    "collapsed": true
   },
   "outputs": [],
   "source": [
    "sales['date'] = pd.to_datetime(sales.date, format = '%d.%m.%Y').dt.date\n",
    "sales['month_num'] = sales['date'].apply(lambda x: x.month)"
   ]
  },
  {
   "cell_type": "markdown",
   "metadata": {},
   "source": [
    "# Aggregate data\n",
    "Since the test data is generated with combination of shops and items, we have to restructure train data to match the test data generation. "
   ]
  },
  {
   "cell_type": "code",
   "execution_count": 4,
   "metadata": {
    "collapsed": true
   },
   "outputs": [],
   "source": [
    "index_cols = ['shop_id', 'item_id', 'date_block_num']\n",
    "\n",
    "#Compute all shops/items combinations\n",
    "grid = []\n",
    "for block_num in sales['date_block_num'].unique():\n",
    "    cur_shops = sales.loc[sales['date_block_num'] == block_num, 'shop_id'].unique()\n",
    "    cur_items = sales.loc[sales['date_block_num'] == block_num, 'item_id'].unique()\n",
    "    grid.append(np.array(list(product(*[cur_shops, cur_items, [block_num]])),dtype='int32'))\n",
    "grid = pd.DataFrame(np.vstack(grid), columns = index_cols,dtype=np.int32)"
   ]
  },
  {
   "cell_type": "markdown",
   "metadata": {},
   "source": [
    "Outliers above are removed so we only include item price that less than 100000 and amount of sales that less or equal to 900."
   ]
  },
  {
   "cell_type": "code",
   "execution_count": 5,
   "metadata": {
    "collapsed": true
   },
   "outputs": [],
   "source": [
    "sales = sales[sales.item_price<100000]\n",
    "sales = sales[sales.item_cnt_day<=900]"
   ]
  },
  {
   "cell_type": "markdown",
   "metadata": {},
   "source": [
    "# Aggregate data"
   ]
  },
  {
   "cell_type": "markdown",
   "metadata": {},
   "source": [
    "Since the competition task is to make a monthly prediction, we need to aggregate the data to montly level before doing any encodings. The following code-cell serves just that purpose."
   ]
  },
  {
   "cell_type": "code",
   "execution_count": 6,
   "metadata": {
    "collapsed": true
   },
   "outputs": [],
   "source": [
    "month_num = sales.groupby('date_block_num', as_index=False)['month_num'].first()"
   ]
  },
  {
   "cell_type": "code",
   "execution_count": 7,
   "metadata": {
    "collapsed": true
   },
   "outputs": [],
   "source": [
    "sales_m = sales.groupby(['date_block_num','shop_id','item_id']).agg({'item_cnt_day': 'sum','item_price': np.mean,}).reset_index()\n",
    "sales_m = pd.merge(grid,sales_m,on=['date_block_num','shop_id','item_id'],how='left').fillna(0)\n",
    "\n",
    "sales_m = pd.merge(sales_m,items,on=['item_id'],how='left')\n",
    "sales_m = pd.merge(sales_m,item_category, on=['item_category_id'], how='left')\n",
    "sales_m = pd.merge(sales_m,  month_num, on = 'date_block_num', how='left')"
   ]
  },
  {
   "cell_type": "code",
   "execution_count": 8,
   "metadata": {
    "collapsed": true
   },
   "outputs": [],
   "source": [
    "sales_m.drop(columns=['item_name', 'item_category_name'], axis=1, inplace=True)"
   ]
  },
  {
   "cell_type": "markdown",
   "metadata": {},
   "source": [
    "Add custom features"
   ]
  },
  {
   "cell_type": "code",
   "execution_count": 9,
   "metadata": {
    "collapsed": true
   },
   "outputs": [],
   "source": [
    "item_vol = pd.read_csv('../item_vol.csv')\n",
    "item_sales_dynamics = pd.read_csv('../item_sales_dynamics.csv')\n",
    "shop_sales_dynamics = pd.read_csv('../shop_sales_dynamics.csv')"
   ]
  },
  {
   "cell_type": "code",
   "execution_count": 10,
   "metadata": {
    "collapsed": true
   },
   "outputs": [],
   "source": [
    "item_vol.rename(columns = {'mean': 'item_id_item_price_mean', 'std': 'item_id_item_price_std', \n",
    "                          'max': 'item_id_item_price_max', 'min': 'item_id_item_price_min',\n",
    "                          'mean/std': 'item_id_item_price_mean_div_std', 'max/min': 'item_id_item_price_max_div_min'}, inplace=True)"
   ]
  },
  {
   "cell_type": "code",
   "execution_count": 11,
   "metadata": {
    "collapsed": true
   },
   "outputs": [],
   "source": [
    "sales_m = sales_m.merge(item_vol, on = ['date_block_num', 'item_id'], how='left')"
   ]
  },
  {
   "cell_type": "code",
   "execution_count": 12,
   "metadata": {
    "collapsed": true
   },
   "outputs": [],
   "source": [
    "sales_m = sales_m.merge(item_sales_dynamics, on = ['date_block_num', 'item_id'], how='left')\n",
    "sales_m = sales_m.merge(shop_sales_dynamics, on = ['date_block_num', 'shop_id'], how='left')"
   ]
  },
  {
   "cell_type": "markdown",
   "metadata": {},
   "source": [
    "# Mean encoding"
   ]
  },
  {
   "cell_type": "markdown",
   "metadata": {},
   "source": [
    "We perform mean encoding on all category data which are item_id, shop_id and item_category_id"
   ]
  },
  {
   "cell_type": "code",
   "execution_count": 13,
   "metadata": {
    "collapsed": true
   },
   "outputs": [],
   "source": [
    "for type_id in ['item_id','shop_id','item_category_id']:\n",
    "    for column_id, agg_func, func_name in [('item_price',np.mean,'avg'),('item_cnt_day',np.sum,'sum'),('item_cnt_day',np.mean,'avg')]:\n",
    "\n",
    "        mean_df = sales_m.groupby([type_id,'date_block_num']).agg(agg_func).reset_index()[[column_id,type_id,'date_block_num']]\n",
    "        mean_df.columns = [type_id+'_'+func_name+'_'+column_id, type_id,'date_block_num']\n",
    "        \n",
    "        sales_m = pd.merge(sales_m,mean_df,on=['date_block_num', type_id],how='left')"
   ]
  },
  {
   "cell_type": "markdown",
   "metadata": {},
   "source": [
    "We append test data into train data so we can create lag features on them."
   ]
  },
  {
   "cell_type": "code",
   "execution_count": 14,
   "metadata": {
    "collapsed": true
   },
   "outputs": [],
   "source": [
    "temp_test = test.copy()\n",
    "temp_test['date_block_num'] = 34\n",
    "temp_test.drop('ID', axis=1, inplace=True)\n",
    "\n",
    "temp_test = temp_test.merge(items, how='left', on='item_id')\n",
    "temp_test = temp_test.merge(item_category, how='left', on='item_category_id')\n",
    "temp_test.drop(['item_name', 'item_category_name'], axis=1, inplace=True)\n",
    "temp_test['month_num'] = 11"
   ]
  },
  {
   "cell_type": "code",
   "execution_count": 15,
   "metadata": {},
   "outputs": [
    {
     "name": "stderr",
     "output_type": "stream",
     "text": [
      "/usr/local/lib/python2.7/site-packages/ipykernel_launcher.py:1: FutureWarning: Sorting because non-concatenation axis is not aligned. A future version\n",
      "of pandas will change to not sort by default.\n",
      "\n",
      "To accept the future behavior, pass 'sort=False'.\n",
      "\n",
      "To retain the current behavior and silence the warning, pass 'sort=True'.\n",
      "\n",
      "  \"\"\"Entry point for launching an IPython kernel.\n"
     ]
    }
   ],
   "source": [
    "sales_m = pd.concat([sales_m,temp_test], axis=0, ignore_index=True)\n"
   ]
  },
  {
   "cell_type": "markdown",
   "metadata": {},
   "source": [
    "# Custom features (Alex and Artem)"
   ]
  },
  {
   "cell_type": "markdown",
   "metadata": {},
   "source": [
    "Seasonality"
   ]
  },
  {
   "cell_type": "code",
   "execution_count": 18,
   "metadata": {
    "collapsed": true
   },
   "outputs": [],
   "source": [
    "\"\"\"holiday_months = [12, 2, 3]\n",
    "bad_month = [1, 11, 5, 6, 7] # January after New Year, November before New Year, May and summer\"\"\""
   ]
  },
  {
   "cell_type": "code",
   "execution_count": 22,
   "metadata": {
    "scrolled": true
   },
   "outputs": [
    {
     "data": {
      "text/plain": [
       "\"sales_m['is_december'] = sales_m['month_num'] == 12\\nsales_m['is_february'] = sales_m['month_num'] == 2\\nsales_m['is_march'] = sales_m['month_num'] == 3\\nsales_m['is_january'] = sales_m['month_num'] == 1\\nsales_m['is_november'] = sales_m['month_num'] == 11\\nsales_m['is_low_season'] = (sales_m['month_num'] >= 5) & (sales_m['month_num'] <= 7)\\nsales_m['is_august'] = sales_m['month_num'] == 8\\nsales_m['is_september'] = sales_m['month_num'] == 9\\nfor col in sales_m.columns:\\n    if col.startswith('is'):\\n        seas_features.append(col)\\n        sales_m.loc[:, col] = sales_m[col].astype(int)\""
      ]
     },
     "execution_count": 22,
     "metadata": {},
     "output_type": "execute_result"
    }
   ],
   "source": [
    "seas_features = []\n",
    "\"\"\"sales_m['is_december'] = sales_m['month_num'] == 12\n",
    "sales_m['is_february'] = sales_m['month_num'] == 2\n",
    "sales_m['is_march'] = sales_m['month_num'] == 3\n",
    "sales_m['is_january'] = sales_m['month_num'] == 1\n",
    "sales_m['is_november'] = sales_m['month_num'] == 11\n",
    "sales_m['is_low_season'] = (sales_m['month_num'] >= 5) & (sales_m['month_num'] <= 7)\n",
    "sales_m['is_august'] = sales_m['month_num'] == 8\n",
    "sales_m['is_september'] = sales_m['month_num'] == 9\n",
    "for col in sales_m.columns:\n",
    "    if col.startswith('is'):\n",
    "        seas_features.append(col)\n",
    "        sales_m.loc[:, col] = sales_m[col].astype(int)\"\"\""
   ]
  },
  {
   "cell_type": "markdown",
   "metadata": {},
   "source": [
    "We create lags on 10 features. 9 features are from mean encoding and 1 feature is the item_cnt_day.\n",
    "\n",
    "After several tries, we found that month lag intervals of 1, 2, 3, 4, 5, 6, 9 and 12 give best score in the leaderboard. Take note that 16GB of ram is unable to compute such large number of interval. We need at least 64GB of ram. "
   ]
  },
  {
   "cell_type": "code",
   "execution_count": 23,
   "metadata": {
    "collapsed": true
   },
   "outputs": [],
   "source": [
    "lags_and_features = dict(zip(range(0,13), [[] for i in range(0,13)]))"
   ]
  },
  {
   "cell_type": "code",
   "execution_count": 24,
   "metadata": {},
   "outputs": [
    {
     "data": {
      "text/plain": [
       "\"lag_variables_all  = ['item_id_avg_item_price',\\n'item_id_sum_item_cnt_day',\\n'item_id_avg_item_cnt_day',\\n'shop_id_avg_item_price',\\n'shop_id_sum_item_cnt_day',\\n'shop_id_avg_item_cnt_day',\\n'item_category_id_sum_item_cnt_day',\\n'item_category_id_avg_item_cnt_day',\\n'item_cnt_day']\\nlags_all = [1, 2, 4, 9]\""
      ]
     },
     "execution_count": 24,
     "metadata": {},
     "output_type": "execute_result"
    }
   ],
   "source": [
    "\"\"\"lag_variables_all  = ['item_id_avg_item_price',\n",
    "'item_id_sum_item_cnt_day',\n",
    "'item_id_avg_item_cnt_day',\n",
    "'shop_id_avg_item_price',\n",
    "'shop_id_sum_item_cnt_day',\n",
    "'shop_id_avg_item_cnt_day',\n",
    "'item_category_id_sum_item_cnt_day',\n",
    "'item_category_id_avg_item_cnt_day',\n",
    "'item_cnt_day']\n",
    "lags_all = [1, 2, 4, 9]\"\"\"\n",
    "\n",
    "\n",
    "lag_variables_all  = ['item_id_avg_item_price',\n",
    "'item_id_sum_item_cnt_day',\n",
    "'item_id_avg_item_cnt_day',\n",
    "'shop_id_avg_item_price',\n",
    "'shop_id_sum_item_cnt_day',\n",
    "'shop_id_avg_item_cnt_day',\n",
    "'item_category_id_avg_item_price',\n",
    "'item_category_id_sum_item_cnt_day',\n",
    "'item_category_id_avg_item_cnt_day',\n",
    "'item_cnt_day']\n",
    "lags_all = [1, 2, 3, 4, 5, 6, 9, 12]\n",
    "\n",
    "for lag in lags_all:\n",
    "    lags_and_features[lag].extend(lag_variables_all)"
   ]
  },
  {
   "cell_type": "code",
   "execution_count": 25,
   "metadata": {},
   "outputs": [],
   "source": [
    "vol_features = ['item_id_item_price_mean', 'item_id_item_price_std', 'item_id_item_price_max',\n",
    "                'item_id_item_price_min','item_id_item_price_mean_div_std', 'item_id_item_price_max_div_min']\n",
    "\n",
    "vol_features_lags = [1, 2]\n",
    "for lag in vol_features_lags:\n",
    "    lags_and_features[lag].extend(vol_features)"
   ]
  },
  {
   "cell_type": "code",
   "execution_count": 26,
   "metadata": {
    "collapsed": true
   },
   "outputs": [],
   "source": [
    "sales_features = []\n",
    "for window in [2,5,12]:\n",
    "    sales_features.append('item_id_item_cnt_day_sma_{}'.format(window))\n",
    "for window in [1, 2, 5, 12]:\n",
    "    sales_features.append('item_id_item_cnt_day_diff_{}'.format(window))    \n",
    "\n",
    "for window in [2,5,12]:\n",
    "    sales_features.append('shop_id_item_cnt_day_sma_{}'.format(window))\n",
    "for window in [1, 2, 5, 12]:\n",
    "    sales_features.append('shop_id_item_cnt_day_diff_{}'.format(window))   \n",
    "\n",
    "sales_lags = [1]\n",
    "for lag in sales_lags:\n",
    "    lags_and_features[lag].extend(sales_features)"
   ]
  },
  {
   "cell_type": "code",
   "execution_count": 27,
   "metadata": {},
   "outputs": [],
   "source": [
    "seas_lag = [0]\n",
    "for lag in seas_lag:\n",
    "    lags_and_features[lag].extend(seas_features)"
   ]
  },
  {
   "cell_type": "code",
   "execution_count": 28,
   "metadata": {},
   "outputs": [
    {
     "data": {
      "text/plain": [
       "\"lag_variables  = ['item_id_avg_item_price',\\n'item_id_sum_item_cnt_day',\\n'item_id_avg_item_cnt_day',\\n'shop_id_avg_item_price',\\n'shop_id_sum_item_cnt_day',\\n'shop_id_avg_item_cnt_day',\\n'item_category_id_avg_item_price',\\n'item_category_id_sum_item_cnt_day',\\n'item_category_id_avg_item_cnt_day',\\n'item_cnt_day']\\n\""
      ]
     },
     "execution_count": 28,
     "metadata": {},
     "output_type": "execute_result"
    },
    {
     "data": {
      "text/plain": [
       "\"vol_features = ['item_id_item_price_mean', 'item_id_item_price_std', 'item_id_item_price_max',\\n                'item_id_item_price_min','item_id_item_price_mean_div_std', 'item_id_item_price_max_div_min']\\n\\nvol_features_lags = [1, 2]\\n\\nsales_features = []\\nfor window in [2,5,12]:\\n    sales_features.append('item_id_item_cnt_day_sma_{}'.format(window))\\nfor window in [1, 2, 5, 12]:\\n    sales_features.append('item_id_item_cnt_day_diff_{}'.format(window))    \\n\\nfor window in [2,5,12]:\\n    sales_features.append('shop_id_item_cnt_day_sma_{}'.format(window))\\nfor window in [1, 2, 5, 12]:\\n    sales_features.append('shop_id_item_cnt_day_diff_{}'.format(window))   \\n\\n#Limited by computation resource\\n#lags = [1]\\n#lags = [1, 2, 3, 4, 5, 6, 9, 12] # memory error is expected\""
      ]
     },
     "execution_count": 28,
     "metadata": {},
     "output_type": "execute_result"
    }
   ],
   "source": [
    "\"\"\"lag_variables  = ['item_id_avg_item_price',\n",
    "'item_id_sum_item_cnt_day',\n",
    "'item_id_avg_item_cnt_day',\n",
    "'shop_id_avg_item_price',\n",
    "'shop_id_sum_item_cnt_day',\n",
    "'shop_id_avg_item_cnt_day',\n",
    "'item_category_id_avg_item_price',\n",
    "'item_category_id_sum_item_cnt_day',\n",
    "'item_category_id_avg_item_cnt_day',\n",
    "'item_cnt_day']\n",
    "\"\"\"\n",
    "\n",
    "\n",
    "\"\"\"vol_features = ['item_id_item_price_mean', 'item_id_item_price_std', 'item_id_item_price_max',\n",
    "                'item_id_item_price_min','item_id_item_price_mean_div_std', 'item_id_item_price_max_div_min']\n",
    "\n",
    "vol_features_lags = [1, 2]\n",
    "\n",
    "sales_features = []\n",
    "for window in [2,5,12]:\n",
    "    sales_features.append('item_id_item_cnt_day_sma_{}'.format(window))\n",
    "for window in [1, 2, 5, 12]:\n",
    "    sales_features.append('item_id_item_cnt_day_diff_{}'.format(window))    \n",
    "\n",
    "for window in [2,5,12]:\n",
    "    sales_features.append('shop_id_item_cnt_day_sma_{}'.format(window))\n",
    "for window in [1, 2, 5, 12]:\n",
    "    sales_features.append('shop_id_item_cnt_day_diff_{}'.format(window))   \n",
    "\n",
    "#Limited by computation resource\n",
    "#lags = [1]\n",
    "#lags = [1, 2, 3, 4, 5, 6, 9, 12] # memory error is expected\"\"\""
   ]
  },
  {
   "cell_type": "code",
   "execution_count": null,
   "metadata": {
    "collapsed": true
   },
   "outputs": [],
   "source": [
    "for lag, features in lags_and_features.iteritems():\n",
    "    if len(features) > 0:\n",
    "        sales_new_df = sales_m.copy()\n",
    "        sales_new_df.date_block_num+=lag\n",
    "        sales_new_df = sales_new_df[['date_block_num','shop_id','item_id']+features]\n",
    "        sales_new_df.columns = ['date_block_num','shop_id','item_id']+ [lag_feat+'_lag_'+str(lag) for lag_feat in features]\n",
    "        sales_m = sales_m.merge(sales_new_df,on=['date_block_num','shop_id','item_id'] ,how='left')\n",
    "\n"
   ]
  },
  {
   "cell_type": "code",
   "execution_count": null,
   "metadata": {
    "collapsed": true
   },
   "outputs": [],
   "source": [
    "sales_m[sales_m.date_block_num == 34]"
   ]
  },
  {
   "cell_type": "markdown",
   "metadata": {},
   "source": [
    "Fill missing values"
   ]
  },
  {
   "cell_type": "code",
   "execution_count": null,
   "metadata": {
    "collapsed": true
   },
   "outputs": [],
   "source": [
    "for feat in sales_m.columns:\n",
    "    if 'item_cnt' in feat:\n",
    "        sales_m[feat]=sales_m[feat].fillna(0)\n",
    "    elif 'item_price' in feat:\n",
    "        sales_m[feat]=sales_m[feat].fillna(sales_m[feat].median())"
   ]
  },
  {
   "cell_type": "markdown",
   "metadata": {},
   "source": [
    "Drop uneccesary columns and take data only after 12 since the most lag month interval is 12."
   ]
  },
  {
   "cell_type": "code",
   "execution_count": 29,
   "metadata": {},
   "outputs": [
    {
     "data": {
      "text/plain": [
       "[1, 2, 3, 4, 5, 6, 9, 'item_price']"
      ]
     },
     "execution_count": 29,
     "metadata": {},
     "output_type": "execute_result"
    }
   ],
   "source": [
    "#cols_to_drop = lag_variables[:-1] + ['item_price']\n",
    "sales_m = sales_m[sales_m['date_block_num']>12]"
   ]
  },
  {
   "cell_type": "markdown",
   "metadata": {},
   "source": [
    "# Validation\n",
    "\n",
    "We use holdout scheme for cross validation. We use sales month from 12 to 32 for training, month 33 for validation and month 34 for testing. "
   ]
  },
  {
   "cell_type": "markdown",
   "metadata": {},
   "source": [
    "Alex and Artem way"
   ]
  },
  {
   "cell_type": "code",
   "execution_count": null,
   "metadata": {
    "collapsed": true
   },
   "outputs": [],
   "source": [
    "X = sales_m.drop(cols_to_drop, axis=1)\n",
    "X['item_cnt_day'].clip_upper(40, inplace=True)\n",
    "X['item_cnt_day'].clip_lower(0, inplace=True)\n",
    "X.to_csv('../input/X.csv', index=False)"
   ]
  }
 ],
 "metadata": {
  "kernelspec": {
   "display_name": "Python 2",
   "language": "python",
   "name": "python2"
  },
  "language_info": {
   "codemirror_mode": {
    "name": "ipython",
    "version": 2
   },
   "file_extension": ".py",
   "mimetype": "text/x-python",
   "name": "python",
   "nbconvert_exporter": "python",
   "pygments_lexer": "ipython2",
   "version": "2.7.13"
  }
 },
 "nbformat": 4,
 "nbformat_minor": 2
}
