{
 "cells": [
  {
   "cell_type": "markdown",
   "metadata": {},
   "source": [
    "1. How many items of this product id is sold in this shop?\n",
    "2. Use macro categories of item category (Игровые консоли, книги, игрушки, итд)\n",
    "3. Seasonalitiy pattern (is_winter, is_autumn, is_summer)\n",
    "4. Price levels (>10, >20, >100, etc)\n",
    "5. Day of the week (or is Friday/Saturday/Sunday)\n",
    "6. Is online shop feature\n",
    "7. How often item is sold\n",
    "8. Price change drift(increasing prices should decrease sales)\n",
    "9. some items will surely be out of catalogue in Nov 2015 and others will have increasing sales (old models vs. new models of e.g Playstations)\n",
    "10. Clip target value on public test/valid to [0, 20]\n",
    "11. Lags from github project\n",
    "13. Number of weekends in month\n",
    "14. City (is Moscow)\n",
    "15. outliers filtering:\n",
    "        sales = sales[sales.item_price<100000]\n",
    "        sales = sales[sales.item_cnt_day<=900]\n",
    "16. Mean encoding from github project : We perform mean encoding on all category data which are item_id, shop_id and item_category_id\n",
    "17. Clip with not 20, but 40"
   ]
  },
  {
   "cell_type": "code",
   "execution_count": null,
   "metadata": {
    "collapsed": true
   },
   "outputs": [],
   "source": []
  }
 ],
 "metadata": {
  "kernelspec": {
   "display_name": "Python 3",
   "language": "python",
   "name": "python3"
  },
  "language_info": {
   "codemirror_mode": {
    "name": "ipython",
    "version": 3
   },
   "file_extension": ".py",
   "mimetype": "text/x-python",
   "name": "python",
   "nbconvert_exporter": "python",
   "pygments_lexer": "ipython3",
   "version": "3.6.5"
  }
 },
 "nbformat": 4,
 "nbformat_minor": 2
}
