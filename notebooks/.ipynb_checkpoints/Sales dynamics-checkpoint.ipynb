{
 "cells": [
  {
   "cell_type": "code",
   "execution_count": 1,
   "metadata": {
    "collapsed": true
   },
   "outputs": [],
   "source": [
    "import pandas as pd\n",
    "import numpy as np\n",
    "import datetime as dt\n",
    "import matplotlib.pyplot as plt"
   ]
  },
  {
   "cell_type": "code",
   "execution_count": 2,
   "metadata": {
    "collapsed": true
   },
   "outputs": [],
   "source": [
    "sales = pd.read_csv('../input/sales_train_v2.csv')"
   ]
  },
  {
   "cell_type": "code",
   "execution_count": 4,
   "metadata": {},
   "outputs": [],
   "source": [
    "sales_g = sales.groupby(['date_block_num', 'shop_id', 'item_id'])['item_cnt_day'].sum().reset_index()"
   ]
  },
  {
   "cell_type": "code",
   "execution_count": 9,
   "metadata": {},
   "outputs": [
    {
     "data": {
      "text/plain": [
       "21807"
      ]
     },
     "execution_count": 9,
     "metadata": {},
     "output_type": "execute_result"
    }
   ],
   "source": [
    "len(sales_g['item_id'].unique())"
   ]
  },
  {
   "cell_type": "code",
   "execution_count": 19,
   "metadata": {},
   "outputs": [],
   "source": [
    "sales_g['item_id_item_cnt_day_sma_2'] = np.nan\n",
    "sales_g['item_id_item_cnt_day_sma_5'] = np.nan\n",
    "sales_g['item_id_item_cnt_day_sma_12'] = np.nan\n",
    "\n",
    "sales_g['item_id_item_cnt_day_diff_1'] = np.nan\n",
    "sales_g['item_id_item_cnt_day_diff_2'] = np.nan\n",
    "sales_g['item_id_item_cnt_day_diff_5'] = np.nan"
   ]
  },
  {
   "cell_type": "code",
   "execution_count": null,
   "metadata": {},
   "outputs": [
    {
     "name": "stderr",
     "output_type": "stream",
     "text": [
      "/usr/local/lib/python2.7/site-packages/ipykernel_launcher.py:3: SettingWithCopyWarning: \n",
      "A value is trying to be set on a copy of a slice from a DataFrame\n",
      "\n",
      "See the caveats in the documentation: http://pandas.pydata.org/pandas-docs/stable/indexing.html#indexing-view-versus-copy\n",
      "  This is separate from the ipykernel package so we can avoid doing imports until\n"
     ]
    }
   ],
   "source": [
    "for item in sales_g.item_id.unique():\n",
    "    temp = sales_g[sales_g.item_id == item]\n",
    "    temp.sort_values(by='date_block_num', inplace=True)\n",
    "    \n",
    "    \n",
    "    for window in [2,5,12]:\n",
    "        value = (temp.item_cnt_day - temp.item_cnt_day.rolling(window).mean()).fillna(0)\n",
    "        sales_g.loc[sales_g.item_id == item, 'item_id_item_cnt_day_sma_{}'.format(window)] = value\n",
    "    \n",
    "    for window in [1, 2, 5, 12]:\n",
    "        value = temp.item_cnt_day.diff(window).fillna(0)\n",
    "        sales_g.loc[sales.item_id == item, 'item_id_item_cnt_day_diff'.format(window)] = value"
   ]
  },
  {
   "cell_type": "code",
   "execution_count": null,
   "metadata": {
    "collapsed": true
   },
   "outputs": [],
   "source": [
    "sales_g['shop_id_item_cnt_day_sma_2'] = np.nan\n",
    "sales_g['shop_id_item_cnt_day_sma_5'] = np.nan\n",
    "sales_g['shop_id_item_cnt_day_sma_12'] = np.nan\n",
    "\n",
    "sales_g['shop_id_item_cnt_day_diff_1'] = np.nan\n",
    "sales_g['shop_id_item_cnt_day_diff_2'] = np.nan\n",
    "sales_g['shop_id_item_cnt_day_diff_5'] = np.nan"
   ]
  },
  {
   "cell_type": "code",
   "execution_count": null,
   "metadata": {
    "collapsed": true
   },
   "outputs": [],
   "source": [
    "for item in sales_g.shop_id.unique():\n",
    "    temp = sales_g[sales_g.shop_id == item]\n",
    "    temp.sort_values(by='date_block_num', inplace=True)\n",
    "    \n",
    "    \n",
    "    for window in [2,5,12]:\n",
    "        value = (temp.item_cnt_day - temp.item_cnt_day.rolling(window).mean()).fillna(0)\n",
    "        sales_g.loc[sales_g.shop_id == item, 'shop_id_item_cnt_day_sma_{}'.format(window)] = value\n",
    "    \n",
    "    for window in [1, 2, 5, 12]:\n",
    "        value = temp.item_cnt_day.diff(window).fillna(0)\n",
    "        sales_g.loc[sales.shop_id == item, 'shop_id_item_cnt_day_diff'.format(window)] = value"
   ]
  }
 ],
 "metadata": {
  "kernelspec": {
   "display_name": "Python 2",
   "language": "python",
   "name": "python2"
  },
  "language_info": {
   "codemirror_mode": {
    "name": "ipython",
    "version": 2
   },
   "file_extension": ".py",
   "mimetype": "text/x-python",
   "name": "python",
   "nbconvert_exporter": "python",
   "pygments_lexer": "ipython2",
   "version": "2.7.13"
  }
 },
 "nbformat": 4,
 "nbformat_minor": 2
}
