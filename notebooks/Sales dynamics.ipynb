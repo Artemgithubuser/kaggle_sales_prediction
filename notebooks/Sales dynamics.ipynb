{
 "cells": [
  {
   "cell_type": "code",
   "execution_count": 2,
   "metadata": {},
   "outputs": [],
   "source": [
    "import pandas as pd\n",
    "import numpy as np\n",
    "import datetime as dt\n",
    "import matplotlib.pyplot as plt"
   ]
  },
  {
   "cell_type": "code",
   "execution_count": 3,
   "metadata": {},
   "outputs": [],
   "source": [
    "sales = pd.read_csv('../input/sales_train_v2.csv')"
   ]
  },
  {
   "cell_type": "code",
   "execution_count": 4,
   "metadata": {},
   "outputs": [],
   "source": [
    "sales_g = sales.groupby(['date_block_num', 'shop_id', 'item_id'])['item_cnt_day'].sum().reset_index()"
   ]
  },
  {
   "cell_type": "code",
   "execution_count": 5,
   "metadata": {},
   "outputs": [
    {
     "data": {
      "text/plain": [
       "21807"
      ]
     },
     "execution_count": 5,
     "metadata": {},
     "output_type": "execute_result"
    }
   ],
   "source": [
    "len(sales_g['item_id'].unique())"
   ]
  },
  {
   "cell_type": "code",
   "execution_count": null,
   "metadata": {},
   "outputs": [],
   "source": [
    "sales_g['item_id_item_cnt_day_sma_2'] = np.nan\n",
    "sales_g['item_id_item_cnt_day_sma_5'] = np.nan\n",
    "sales_g['item_id_item_cnt_day_sma_12'] = np.nan\n",
    "\n",
    "sales_g['item_id_item_cnt_day_diff_1'] = np.nan\n",
    "sales_g['item_id_item_cnt_day_diff_2'] = np.nan\n",
    "sales_g['item_id_item_cnt_day_diff_5'] = np.nan"
   ]
  },
  {
   "cell_type": "code",
   "execution_count": 6,
   "metadata": {},
   "outputs": [],
   "source": [
    "grouped_items = sales.groupby(['date_block_num', 'item_id'])['item_cnt_day'].sum().reset_index()\n",
    "grouped_shops = sales.groupby(['date_block_num', 'shop_id'])['item_cnt_day'].sum().reset_index()"
   ]
  },
  {
   "cell_type": "code",
   "execution_count": null,
   "metadata": {
    "scrolled": true
   },
   "outputs": [
    {
     "name": "stderr",
     "output_type": "stream",
     "text": [
      "/usr/local/lib/python2.7/dist-packages/ipykernel_launcher.py:5: SettingWithCopyWarning: \n",
      "A value is trying to be set on a copy of a slice from a DataFrame\n",
      "\n",
      "See the caveats in the documentation: http://pandas.pydata.org/pandas-docs/stable/indexing.html#indexing-view-versus-copy\n",
      "  \"\"\"\n",
      "/usr/local/lib/python2.7/dist-packages/ipykernel_launcher.py:10: SettingWithCopyWarning: \n",
      "A value is trying to be set on a copy of a slice from a DataFrame.\n",
      "Try using .loc[row_indexer,col_indexer] = value instead\n",
      "\n",
      "See the caveats in the documentation: http://pandas.pydata.org/pandas-docs/stable/indexing.html#indexing-view-versus-copy\n",
      "  # Remove the CWD from sys.path while we load stuff.\n",
      "/usr/local/lib/python2.7/dist-packages/ipykernel_launcher.py:14: SettingWithCopyWarning: \n",
      "A value is trying to be set on a copy of a slice from a DataFrame.\n",
      "Try using .loc[row_indexer,col_indexer] = value instead\n",
      "\n",
      "See the caveats in the documentation: http://pandas.pydata.org/pandas-docs/stable/indexing.html#indexing-view-versus-copy\n",
      "  \n"
     ]
    }
   ],
   "source": [
    "i = 0\n",
    "new_df=pd.DataFrame()\n",
    "for item in grouped_items.item_id.unique():\n",
    "    temp = grouped_items[grouped_items.item_id == item]\n",
    "    temp.sort_values(by='date_block_num', inplace=True)\n",
    "\n",
    "    for window in [2,5,12]:\n",
    "        value = (temp.item_cnt_day - temp.item_cnt_day.rolling(window).mean()\n",
    "                 ).fillna(0)\n",
    "        temp['item_id_item_cnt_day_sma_{}'.format(window)] = value\n",
    "    \n",
    "    for window in [1, 2, 5, 12]:\n",
    "        value = temp.item_cnt_day.diff(window).fillna(0)\n",
    "        temp['item_id_item_cnt_day_diff_{}'.format(window)] = value\n",
    "    new_df = new_df.append(temp)\n",
    "    i+=1"
   ]
  },
  {
   "cell_type": "code",
   "execution_count": null,
   "metadata": {},
   "outputs": [],
   "source": [
    "sales_g['shop_id_item_cnt_day_sma_2'] = np.nan\n",
    "sales_g['shop_id_item_cnt_day_sma_5'] = np.nan\n",
    "sales_g['shop_id_item_cnt_day_sma_12'] = np.nan\n",
    "\n",
    "sales_g['shop_id_item_cnt_day_diff_1'] = np.nan\n",
    "sales_g['shop_id_item_cnt_day_diff_2'] = np.nan\n",
    "sales_g['shop_id_item_cnt_day_diff_5'] = np.nan"
   ]
  },
  {
   "cell_type": "code",
   "execution_count": null,
   "metadata": {},
   "outputs": [],
   "source": [
    "i = 0\n",
    "new_df_2=pd.DataFrame()\n",
    "for item in grouped_shops.shop_id.unique():\n",
    "    temp = grouped_shops[grouped_shops.shop_id == item]\n",
    "    temp.sort_values(by='date_block_num', inplace=True)\n",
    "\n",
    "    for window in [2,5,12]:\n",
    "        value = (temp.item_cnt_day - temp.item_cnt_day.rolling(window).mean()\n",
    "                 ).fillna(0)\n",
    "        temp['shop_id_item_cnt_day_sma_{}'.format(window)] = value\n",
    "    \n",
    "    for window in [1, 2, 5, 12]:\n",
    "        value = temp.item_cnt_day.diff(window).fillna(0)\n",
    "        temp['shop_id_item_cnt_day_diff_{}'.format(window)] = value\n",
    "    new_df_2 = new_df_2.append(temp)\n",
    "    i+=1"
   ]
  },
  {
   "cell_type": "code",
   "execution_count": null,
   "metadata": {},
   "outputs": [],
   "source": [
    "cols_to_use_item = ['date_block_num', 'item_id']\n",
    "for window in [2,5,12]:\n",
    "    cols_to_use_item.append('item_id_item_cnt_day_sma_{}'.format(window))\n",
    "for window in [1, 2, 5, 12]:\n",
    "    cols_to_use_item.append('item_id_item_cnt_day_diff_{}'.format(window))    "
   ]
  },
  {
   "cell_type": "code",
   "execution_count": null,
   "metadata": {},
   "outputs": [],
   "source": [
    "cols_to_use_shop = ['date_block_num', 'shop_id']\n",
    "for window in [2,5,12]:\n",
    "    cols_to_use_shop.append('shop_id_item_cnt_day_sma_{}'.format(window))\n",
    "for window in [1, 2, 5, 12]:\n",
    "    cols_to_use_shop.append('shop_id_item_cnt_day_diff_{}'.format(window))     \n"
   ]
  },
  {
   "cell_type": "code",
   "execution_count": null,
   "metadata": {},
   "outputs": [],
   "source": [
    "new_df[cols_to_use_item].head()"
   ]
  },
  {
   "cell_type": "code",
   "execution_count": null,
   "metadata": {},
   "outputs": [],
   "source": []
  },
  {
   "cell_type": "code",
   "execution_count": null,
   "metadata": {},
   "outputs": [],
   "source": []
  },
  {
   "cell_type": "code",
   "execution_count": null,
   "metadata": {},
   "outputs": [],
   "source": [
    "new_df[cols_to_use_item].to_csv('../item_sales_dynamics.csv', index=False)\n",
    "new_df_2[cols_to_use_shop].to_csv('../shop_sales_dynamics.csv', index=False)"
   ]
  },
  {
   "cell_type": "code",
   "execution_count": null,
   "metadata": {},
   "outputs": [],
   "source": [
    "final_df = pd.merge(new_df, new_df_2[cols_to_use], on = ['date_block_num', 'shop_id'], how='left')"
   ]
  },
  {
   "cell_type": "code",
   "execution_count": null,
   "metadata": {},
   "outputs": [],
   "source": []
  }
 ],
 "metadata": {
  "kernelspec": {
   "display_name": "Python 2",
   "language": "python",
   "name": "python2"
  },
  "language_info": {
   "codemirror_mode": {
    "name": "ipython",
    "version": 2
   },
   "file_extension": ".py",
   "mimetype": "text/x-python",
   "name": "python",
   "nbconvert_exporter": "python",
   "pygments_lexer": "ipython2",
   "version": "2.7.15rc1"
  }
 },
 "nbformat": 4,
 "nbformat_minor": 2
}
