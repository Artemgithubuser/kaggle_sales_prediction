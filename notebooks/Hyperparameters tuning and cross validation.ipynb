{
 "cells": [
  {
   "cell_type": "code",
   "execution_count": 1,
   "metadata": {
    "collapsed": true
   },
   "outputs": [],
   "source": [
    "import pandas as pd\n",
    "import numpy as np\n",
    "import datetime as dt\n",
    "from sklearn.model_selection import TimeSeriesSplit"
   ]
  },
  {
   "cell_type": "code",
   "execution_count": 4,
   "metadata": {
    "collapsed": true
   },
   "outputs": [],
   "source": [
    "a = range(0,34)"
   ]
  },
  {
   "cell_type": "code",
   "execution_count": 16,
   "metadata": {},
   "outputs": [
    {
     "name": "stdout",
     "output_type": "stream",
     "text": [
      "Train : [0 4], Test: 5\n",
      "Train : [0 5], Test: 6\n",
      "Train : [0 6], Test: 7\n",
      "Train : [0 7], Test: 8\n",
      "Train : [0 8], Test: 9\n",
      "Train : [0 9], Test: 10\n",
      "Train : [0 10], Test: 11\n",
      "Train : [0 11], Test: 12\n",
      "Train : [0 12], Test: 13\n",
      "Train : [0 13], Test: 14\n",
      "Train : [0 14], Test: 15\n",
      "Train : [0 15], Test: 16\n",
      "Train : [0 16], Test: 17\n",
      "Train : [0 17], Test: 18\n",
      "Train : [0 18], Test: 19\n",
      "Train : [0 19], Test: 20\n",
      "Train : [0 20], Test: 21\n",
      "Train : [0 21], Test: 22\n",
      "Train : [0 22], Test: 23\n",
      "Train : [0 23], Test: 24\n",
      "Train : [0 24], Test: 25\n",
      "Train : [0 25], Test: 26\n",
      "Train : [0 26], Test: 27\n",
      "Train : [0 27], Test: 28\n",
      "Train : [0 28], Test: 29\n",
      "Train : [0 29], Test: 30\n",
      "Train : [0 30], Test: 31\n",
      "Train : [0 31], Test: 32\n",
      "Train : [0 32], Test: 33\n"
     ]
    }
   ],
   "source": [
    "n_splits = 4\n",
    "for i in range(n_splits, a[-1]):\n",
    "    print 'Train : [0 {}], Test: {}'.format(i, i+1)\n",
    "    i += 1"
   ]
  },
  {
   "cell_type": "code",
   "execution_count": null,
   "metadata": {
    "collapsed": true
   },
   "outputs": [],
   "source": []
  }
 ],
 "metadata": {
  "kernelspec": {
   "display_name": "Python 2",
   "language": "python",
   "name": "python2"
  },
  "language_info": {
   "codemirror_mode": {
    "name": "ipython",
    "version": 2
   },
   "file_extension": ".py",
   "mimetype": "text/x-python",
   "name": "python",
   "nbconvert_exporter": "python",
   "pygments_lexer": "ipython2",
   "version": "2.7.13"
  }
 },
 "nbformat": 4,
 "nbformat_minor": 2
}
