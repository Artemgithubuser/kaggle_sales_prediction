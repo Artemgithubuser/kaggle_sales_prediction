{
 "cells": [
  {
   "cell_type": "code",
   "execution_count": 1,
   "metadata": {},
   "outputs": [],
   "source": [
    "import pandas as pd\n",
    "import numpy as np\n",
    "import datetime as dt\n",
    "import itertools as it\n",
    "from sklearn.metrics import r"
   ]
  },
  {
   "cell_type": "code",
   "execution_count": 2,
   "metadata": {
    "collapsed": true
   },
   "outputs": [],
   "source": [
    "def generate_grid(params_grid):\n",
    "        allNames = sorted(params_grid)\n",
    "        combinations = it.product(\n",
    "            *(params_grid[Name] for Name in allNames))\n",
    "        dicts = []\n",
    "        for item in list(combinations):\n",
    "            temp = {}\n",
    "            for key, value in zip(allNames, item):\n",
    "                temp[key] = value\n",
    "            dicts.append(temp)\n",
    "        return dicts"
   ]
  },
  {
   "cell_type": "code",
   "execution_count": 3,
   "metadata": {},
   "outputs": [],
   "source": [
    "space = {\n",
    "             'n_estimators' : range(100, 1000, 400),\n",
    "             'eta' : list(np.linspace(0.025, 0.5, 10)),\n",
    "             'max_depth' : range(1,13),\n",
    "             'min_child_weight' : list(range(1, 6)),\n",
    "             'subsample' : list(np.linspace(0.5, 1, 3)),\n",
    "             'gamma' : list(np.linspace(0.5, 1, 3)),\n",
    "             'colsample_bytree' : list(np.linspace(0.5, 1, 3)),\n",
    "             \n",
    "             }"
   ]
  },
  {
   "cell_type": "code",
   "execution_count": 4,
   "metadata": {
    "collapsed": true
   },
   "outputs": [],
   "source": [
    "misc_params = {'eval_metric': 'rmse',\n",
    "             'objective': 'reg:linear',\n",
    "             'tree_method': 'exact',\n",
    "             'silent' : 1}"
   ]
  },
  {
   "cell_type": "code",
   "execution_count": 5,
   "metadata": {
    "collapsed": true
   },
   "outputs": [],
   "source": [
    "combinations = generate_grid(space)"
   ]
  },
  {
   "cell_type": "code",
   "execution_count": 6,
   "metadata": {},
   "outputs": [
    {
     "data": {
      "text/plain": [
       "48600"
      ]
     },
     "execution_count": 6,
     "metadata": {},
     "output_type": "execute_result"
    }
   ],
   "source": [
    "len(combinations)"
   ]
  },
  {
   "cell_type": "code",
   "execution_count": 7,
   "metadata": {},
   "outputs": [],
   "source": [
    "step = 4\n",
    "split_range = range(9,34-step-1)\n",
    "folds = []\n",
    "for i in split_range:\n",
    "    if i > min(split_range):\n",
    "        temp_dict = {'train': [], 'valid': []}\n",
    "        temp_dict['train'] = [min(split_range), i+step]\n",
    "        temp_dict['valid'] = [i+1+step]\n",
    "        folds.append(temp_dict)"
   ]
  },
  {
   "cell_type": "code",
   "execution_count": 8,
   "metadata": {},
   "outputs": [],
   "source": [
    "optimization_task = {}\n",
    "for comb in combinations:\n",
    "    comb.update(misc_params)\n",
    "    optimization_task[str(comb)] = []\n",
    "    "
   ]
  },
  {
   "cell_type": "code",
   "execution_count": null,
   "metadata": {
    "collapsed": true
   },
   "outputs": [],
   "source": [
    "X = pd.read_csv('../input/X.csv', index=False)"
   ]
  },
  {
   "cell_type": "code",
   "execution_count": null,
   "metadata": {},
   "outputs": [],
   "source": [
    "i = 0\n",
    "for f in folds:\n",
    "    train = f['train']\n",
    "    valid = f['valid']\n",
    "    X_train = X[X.date_block_num.isin(train)]\n",
    "    X_cv = X[X.date_block_num == valid[0]]\n",
    "    for param_set in combinations:\n",
    "        param_set.update(misc_params)\n",
    "        cols = [c for c in X_train.columns if c not in ['date_block_num', 'item_cnt_day']]\n",
    "        x1 = X_train[cols]\n",
    "        y1 = X_train['item_cnt_day']\n",
    "        x2 = X_cv[cols]\n",
    "        y2 = X_cv['item_cnt_day']\n",
    "        watchlist = [(xgb.DMatrix(x1, y1), 'train'), (xgb.DMatrix(x2, y2), 'valid')]\n",
    "        model = xgb.train(params, xgb.DMatrix(x1, y1), 3500,  watchlist, maximize=False, verbose_eval=50, early_stopping_rounds=50)\n",
    "        predictions = model.predict(xgb.DMatrix(X_cv[cols]), ntree_limit=model.best_ntree_limit)\n",
    "        targets = y2\n",
    "        rmse = np.sqrt(np.mean((predictions-targets)**2))\n",
    "        optimization_task[str(param_set)].extend(rmse)\n",
    "    i+=1\n",
    "    print i\n",
    "        "
   ]
  },
  {
   "cell_type": "code",
   "execution_count": null,
   "metadata": {},
   "outputs": [],
   "source": [
    "combinations"
   ]
  },
  {
   "cell_type": "code",
   "execution_count": null,
   "metadata": {
    "collapsed": true
   },
   "outputs": [],
   "source": []
  }
 ],
 "metadata": {
  "kernelspec": {
   "display_name": "Python 2",
   "language": "python",
   "name": "python2"
  },
  "language_info": {
   "codemirror_mode": {
    "name": "ipython",
    "version": 2
   },
   "file_extension": ".py",
   "mimetype": "text/x-python",
   "name": "python",
   "nbconvert_exporter": "python",
   "pygments_lexer": "ipython2",
   "version": "2.7.13"
  }
 },
 "nbformat": 4,
 "nbformat_minor": 2
}
